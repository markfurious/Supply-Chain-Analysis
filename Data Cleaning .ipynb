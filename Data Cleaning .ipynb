{
 "cells": [
  {
   "cell_type": "markdown",
   "id": "f23a84df",
   "metadata": {},
   "source": [
    "# Part 1 Data Cleaning "
   ]
  },
  {
   "cell_type": "markdown",
   "id": "dee778d3",
   "metadata": {},
   "source": [
    "Data set link https://www.kaggle.com/datasets/shashwatwork/dataco-smart-supply-chain-for-big-data-analysis"
   ]
  },
  {
   "cell_type": "code",
   "execution_count": 3,
   "id": "4d9a69fd",
   "metadata": {},
   "outputs": [],
   "source": [
    "#importing all the necessary libraries \n",
    "import numpy as np\n",
    "import pandas as pd\n",
    "import os \n",
    "import datetime as dt\n",
    "import math\n",
    "import seaborn as sns"
   ]
  },
  {
   "cell_type": "code",
   "execution_count": 4,
   "id": "7aa36294",
   "metadata": {},
   "outputs": [],
   "source": [
    "# Reading and storing the csv file in a Data Frame  \n",
    "df=pd.read_csv('DataCoSupplyChainDataset.csv',header= 0,encoding='unicode_escape')\n",
    "df=pd.DataFrame(df)"
   ]
  },
  {
   "cell_type": "code",
   "execution_count": 5,
   "id": "0b2d79e7",
   "metadata": {},
   "outputs": [
    {
     "data": {
      "text/plain": [
       "(180519, 53)"
      ]
     },
     "execution_count": 5,
     "metadata": {},
     "output_type": "execute_result"
    }
   ],
   "source": [
    "df.shape"
   ]
  },
  {
   "cell_type": "code",
   "execution_count": 6,
   "id": "7b72034f",
   "metadata": {},
   "outputs": [
    {
     "data": {
      "text/plain": [
       "Index(['Type', 'Days for shipping (real)', 'Days for shipment (scheduled)',\n",
       "       'Benefit per order', 'Sales per customer', 'Delivery Status',\n",
       "       'Late_delivery_risk', 'Category Id', 'Category Name', 'Customer City',\n",
       "       'Customer Country', 'Customer Email', 'Customer Fname', 'Customer Id',\n",
       "       'Customer Lname', 'Customer Password', 'Customer Segment',\n",
       "       'Customer State', 'Customer Street', 'Customer Zipcode',\n",
       "       'Department Id', 'Department Name', 'Latitude', 'Longitude', 'Market',\n",
       "       'Order City', 'Order Country', 'Order Customer Id',\n",
       "       'order date (DateOrders)', 'Order Id', 'Order Item Cardprod Id',\n",
       "       'Order Item Discount', 'Order Item Discount Rate', 'Order Item Id',\n",
       "       'Order Item Product Price', 'Order Item Profit Ratio',\n",
       "       'Order Item Quantity', 'Sales', 'Order Item Total',\n",
       "       'Order Profit Per Order', 'Order Region', 'Order State', 'Order Status',\n",
       "       'Order Zipcode', 'Product Card Id', 'Product Category Id',\n",
       "       'Product Description', 'Product Image', 'Product Name', 'Product Price',\n",
       "       'Product Status', 'shipping date (DateOrders)', 'Shipping Mode'],\n",
       "      dtype='object')"
      ]
     },
     "execution_count": 6,
     "metadata": {},
     "output_type": "execute_result"
    }
   ],
   "source": [
    "df.columns"
   ]
  },
  {
   "cell_type": "markdown",
   "id": "e4bd2365",
   "metadata": {},
   "source": [
    "### First 5 rows of the data frame "
   ]
  },
  {
   "cell_type": "code",
   "execution_count": 7,
   "id": "2632647c",
   "metadata": {
    "scrolled": true
   },
   "outputs": [
    {
     "data": {
      "text/html": [
       "<div>\n",
       "<style scoped>\n",
       "    .dataframe tbody tr th:only-of-type {\n",
       "        vertical-align: middle;\n",
       "    }\n",
       "\n",
       "    .dataframe tbody tr th {\n",
       "        vertical-align: top;\n",
       "    }\n",
       "\n",
       "    .dataframe thead th {\n",
       "        text-align: right;\n",
       "    }\n",
       "</style>\n",
       "<table border=\"1\" class=\"dataframe\">\n",
       "  <thead>\n",
       "    <tr style=\"text-align: right;\">\n",
       "      <th></th>\n",
       "      <th>Type</th>\n",
       "      <th>Days for shipping (real)</th>\n",
       "      <th>Days for shipment (scheduled)</th>\n",
       "      <th>Benefit per order</th>\n",
       "      <th>Sales per customer</th>\n",
       "      <th>Delivery Status</th>\n",
       "      <th>Late_delivery_risk</th>\n",
       "      <th>Category Id</th>\n",
       "      <th>Category Name</th>\n",
       "      <th>Customer City</th>\n",
       "      <th>...</th>\n",
       "      <th>Order Zipcode</th>\n",
       "      <th>Product Card Id</th>\n",
       "      <th>Product Category Id</th>\n",
       "      <th>Product Description</th>\n",
       "      <th>Product Image</th>\n",
       "      <th>Product Name</th>\n",
       "      <th>Product Price</th>\n",
       "      <th>Product Status</th>\n",
       "      <th>shipping date (DateOrders)</th>\n",
       "      <th>Shipping Mode</th>\n",
       "    </tr>\n",
       "  </thead>\n",
       "  <tbody>\n",
       "    <tr>\n",
       "      <th>0</th>\n",
       "      <td>DEBIT</td>\n",
       "      <td>3</td>\n",
       "      <td>4</td>\n",
       "      <td>91.250000</td>\n",
       "      <td>314.640015</td>\n",
       "      <td>Advance shipping</td>\n",
       "      <td>0</td>\n",
       "      <td>73</td>\n",
       "      <td>Sporting Goods</td>\n",
       "      <td>Caguas</td>\n",
       "      <td>...</td>\n",
       "      <td>NaN</td>\n",
       "      <td>1360</td>\n",
       "      <td>73</td>\n",
       "      <td>NaN</td>\n",
       "      <td>http://images.acmesports.sports/Smart+watch</td>\n",
       "      <td>Smart watch</td>\n",
       "      <td>327.75</td>\n",
       "      <td>0</td>\n",
       "      <td>2/3/2018 22:56</td>\n",
       "      <td>Standard Class</td>\n",
       "    </tr>\n",
       "    <tr>\n",
       "      <th>1</th>\n",
       "      <td>TRANSFER</td>\n",
       "      <td>5</td>\n",
       "      <td>4</td>\n",
       "      <td>-249.089996</td>\n",
       "      <td>311.359985</td>\n",
       "      <td>Late delivery</td>\n",
       "      <td>1</td>\n",
       "      <td>73</td>\n",
       "      <td>Sporting Goods</td>\n",
       "      <td>Caguas</td>\n",
       "      <td>...</td>\n",
       "      <td>NaN</td>\n",
       "      <td>1360</td>\n",
       "      <td>73</td>\n",
       "      <td>NaN</td>\n",
       "      <td>http://images.acmesports.sports/Smart+watch</td>\n",
       "      <td>Smart watch</td>\n",
       "      <td>327.75</td>\n",
       "      <td>0</td>\n",
       "      <td>1/18/2018 12:27</td>\n",
       "      <td>Standard Class</td>\n",
       "    </tr>\n",
       "    <tr>\n",
       "      <th>2</th>\n",
       "      <td>CASH</td>\n",
       "      <td>4</td>\n",
       "      <td>4</td>\n",
       "      <td>-247.779999</td>\n",
       "      <td>309.720001</td>\n",
       "      <td>Shipping on time</td>\n",
       "      <td>0</td>\n",
       "      <td>73</td>\n",
       "      <td>Sporting Goods</td>\n",
       "      <td>San Jose</td>\n",
       "      <td>...</td>\n",
       "      <td>NaN</td>\n",
       "      <td>1360</td>\n",
       "      <td>73</td>\n",
       "      <td>NaN</td>\n",
       "      <td>http://images.acmesports.sports/Smart+watch</td>\n",
       "      <td>Smart watch</td>\n",
       "      <td>327.75</td>\n",
       "      <td>0</td>\n",
       "      <td>1/17/2018 12:06</td>\n",
       "      <td>Standard Class</td>\n",
       "    </tr>\n",
       "    <tr>\n",
       "      <th>3</th>\n",
       "      <td>DEBIT</td>\n",
       "      <td>3</td>\n",
       "      <td>4</td>\n",
       "      <td>22.860001</td>\n",
       "      <td>304.809998</td>\n",
       "      <td>Advance shipping</td>\n",
       "      <td>0</td>\n",
       "      <td>73</td>\n",
       "      <td>Sporting Goods</td>\n",
       "      <td>Los Angeles</td>\n",
       "      <td>...</td>\n",
       "      <td>NaN</td>\n",
       "      <td>1360</td>\n",
       "      <td>73</td>\n",
       "      <td>NaN</td>\n",
       "      <td>http://images.acmesports.sports/Smart+watch</td>\n",
       "      <td>Smart watch</td>\n",
       "      <td>327.75</td>\n",
       "      <td>0</td>\n",
       "      <td>1/16/2018 11:45</td>\n",
       "      <td>Standard Class</td>\n",
       "    </tr>\n",
       "    <tr>\n",
       "      <th>4</th>\n",
       "      <td>PAYMENT</td>\n",
       "      <td>2</td>\n",
       "      <td>4</td>\n",
       "      <td>134.210007</td>\n",
       "      <td>298.250000</td>\n",
       "      <td>Advance shipping</td>\n",
       "      <td>0</td>\n",
       "      <td>73</td>\n",
       "      <td>Sporting Goods</td>\n",
       "      <td>Caguas</td>\n",
       "      <td>...</td>\n",
       "      <td>NaN</td>\n",
       "      <td>1360</td>\n",
       "      <td>73</td>\n",
       "      <td>NaN</td>\n",
       "      <td>http://images.acmesports.sports/Smart+watch</td>\n",
       "      <td>Smart watch</td>\n",
       "      <td>327.75</td>\n",
       "      <td>0</td>\n",
       "      <td>1/15/2018 11:24</td>\n",
       "      <td>Standard Class</td>\n",
       "    </tr>\n",
       "  </tbody>\n",
       "</table>\n",
       "<p>5 rows × 53 columns</p>\n",
       "</div>"
      ],
      "text/plain": [
       "       Type  Days for shipping (real)  Days for shipment (scheduled)  \\\n",
       "0     DEBIT                         3                              4   \n",
       "1  TRANSFER                         5                              4   \n",
       "2      CASH                         4                              4   \n",
       "3     DEBIT                         3                              4   \n",
       "4   PAYMENT                         2                              4   \n",
       "\n",
       "   Benefit per order  Sales per customer   Delivery Status  \\\n",
       "0          91.250000          314.640015  Advance shipping   \n",
       "1        -249.089996          311.359985     Late delivery   \n",
       "2        -247.779999          309.720001  Shipping on time   \n",
       "3          22.860001          304.809998  Advance shipping   \n",
       "4         134.210007          298.250000  Advance shipping   \n",
       "\n",
       "   Late_delivery_risk  Category Id   Category Name Customer City  ...  \\\n",
       "0                   0           73  Sporting Goods        Caguas  ...   \n",
       "1                   1           73  Sporting Goods        Caguas  ...   \n",
       "2                   0           73  Sporting Goods      San Jose  ...   \n",
       "3                   0           73  Sporting Goods   Los Angeles  ...   \n",
       "4                   0           73  Sporting Goods        Caguas  ...   \n",
       "\n",
       "  Order Zipcode Product Card Id Product Category Id  Product Description  \\\n",
       "0           NaN            1360                  73                  NaN   \n",
       "1           NaN            1360                  73                  NaN   \n",
       "2           NaN            1360                  73                  NaN   \n",
       "3           NaN            1360                  73                  NaN   \n",
       "4           NaN            1360                  73                  NaN   \n",
       "\n",
       "                                  Product Image  Product Name Product Price  \\\n",
       "0  http://images.acmesports.sports/Smart+watch   Smart watch         327.75   \n",
       "1  http://images.acmesports.sports/Smart+watch   Smart watch         327.75   \n",
       "2  http://images.acmesports.sports/Smart+watch   Smart watch         327.75   \n",
       "3  http://images.acmesports.sports/Smart+watch   Smart watch         327.75   \n",
       "4  http://images.acmesports.sports/Smart+watch   Smart watch         327.75   \n",
       "\n",
       "  Product Status shipping date (DateOrders)   Shipping Mode  \n",
       "0              0             2/3/2018 22:56  Standard Class  \n",
       "1              0            1/18/2018 12:27  Standard Class  \n",
       "2              0            1/17/2018 12:06  Standard Class  \n",
       "3              0            1/16/2018 11:45  Standard Class  \n",
       "4              0            1/15/2018 11:24  Standard Class  \n",
       "\n",
       "[5 rows x 53 columns]"
      ]
     },
     "execution_count": 7,
     "metadata": {},
     "output_type": "execute_result"
    }
   ],
   "source": [
    "df.head(5)"
   ]
  },
  {
   "cell_type": "code",
   "execution_count": 8,
   "id": "f5d64103",
   "metadata": {},
   "outputs": [
    {
     "data": {
      "text/plain": [
       "Type                                  0\n",
       "Days for shipping (real)              0\n",
       "Days for shipment (scheduled)         0\n",
       "Benefit per order                     0\n",
       "Sales per customer                    0\n",
       "Delivery Status                       0\n",
       "Late_delivery_risk                    0\n",
       "Category Id                           0\n",
       "Category Name                         0\n",
       "Customer City                         0\n",
       "Customer Country                      0\n",
       "Customer Email                        0\n",
       "Customer Fname                        0\n",
       "Customer Id                           0\n",
       "Customer Lname                        8\n",
       "Customer Password                     0\n",
       "Customer Segment                      0\n",
       "Customer State                        0\n",
       "Customer Street                       0\n",
       "Customer Zipcode                      3\n",
       "Department Id                         0\n",
       "Department Name                       0\n",
       "Latitude                              0\n",
       "Longitude                             0\n",
       "Market                                0\n",
       "Order City                            0\n",
       "Order Country                         0\n",
       "Order Customer Id                     0\n",
       "order date (DateOrders)               0\n",
       "Order Id                              0\n",
       "Order Item Cardprod Id                0\n",
       "Order Item Discount                   0\n",
       "Order Item Discount Rate              0\n",
       "Order Item Id                         0\n",
       "Order Item Product Price              0\n",
       "Order Item Profit Ratio               0\n",
       "Order Item Quantity                   0\n",
       "Sales                                 0\n",
       "Order Item Total                      0\n",
       "Order Profit Per Order                0\n",
       "Order Region                          0\n",
       "Order State                           0\n",
       "Order Status                          0\n",
       "Order Zipcode                    155679\n",
       "Product Card Id                       0\n",
       "Product Category Id                   0\n",
       "Product Description              180519\n",
       "Product Image                         0\n",
       "Product Name                          0\n",
       "Product Price                         0\n",
       "Product Status                        0\n",
       "shipping date (DateOrders)            0\n",
       "Shipping Mode                         0\n",
       "dtype: int64"
      ]
     },
     "execution_count": 8,
     "metadata": {},
     "output_type": "execute_result"
    }
   ],
   "source": [
    "#Checking for null values\n",
    "df.isnull().sum()"
   ]
  },
  {
   "cell_type": "code",
   "execution_count": 9,
   "id": "ccb10d83",
   "metadata": {},
   "outputs": [],
   "source": [
    "#Droping the columns with maximum null values \n",
    "df=df.drop(columns=['Order Zipcode','Product Description'],axis=1)"
   ]
  },
  {
   "cell_type": "code",
   "execution_count": 10,
   "id": "8f6a7138",
   "metadata": {},
   "outputs": [],
   "source": [
    "#Droping the unnecesarry columns \n",
    "df=df.drop(columns=['Product Image','Customer Email','Customer Fname','Customer Lname','Customer Password','Product Status','Customer Street'],axis=1)"
   ]
  },
  {
   "cell_type": "code",
   "execution_count": 11,
   "id": "81e667d7",
   "metadata": {},
   "outputs": [
    {
     "name": "stdout",
     "output_type": "stream",
     "text": [
      "Both are same\n"
     ]
    }
   ],
   "source": [
    "#Checking whether two columns have the same values \n",
    "x=df['Product Price']\n",
    "y=df['Order Item Product Price']\n",
    "if x.all()==y.all():\n",
    "    print(\"Both are same\")\n",
    "else:\n",
    "    print(\"Not the same\")"
   ]
  },
  {
   "cell_type": "code",
   "execution_count": 12,
   "id": "a27fa8b1",
   "metadata": {},
   "outputs": [],
   "source": [
    "#Droping one column sice they are the same \n",
    "df=df.drop(columns=['Order Item Product Price'],axis=1)"
   ]
  },
  {
   "cell_type": "code",
   "execution_count": 13,
   "id": "0e3b01d6",
   "metadata": {},
   "outputs": [],
   "source": [
    "#changing all dates from object type to datetime \n",
    "df['order date (DateOrders)']= pd.to_datetime(df['order date (DateOrders)'])"
   ]
  },
  {
   "cell_type": "code",
   "execution_count": 14,
   "id": "120b5db3",
   "metadata": {},
   "outputs": [],
   "source": [
    "#changing all dates from object type to datetime \n",
    "df['shipping date (DateOrders)']= pd.to_datetime(df['shipping date (DateOrders)'])"
   ]
  },
  {
   "cell_type": "code",
   "execution_count": 15,
   "id": "ad4994e8",
   "metadata": {
    "scrolled": true
   },
   "outputs": [],
   "source": [
    "#droping days of shipping column because the staus of delivery available \n",
    "df=df.drop(columns=['Days for shipping (real)'],axis=1)\n",
    "df=df.drop(columns=['Days for shipment (scheduled)'],axis=1)\n"
   ]
  },
  {
   "cell_type": "code",
   "execution_count": 16,
   "id": "e00b025a",
   "metadata": {},
   "outputs": [],
   "source": [
    "#droping other unnecesarry columns and columns with duplicate values under different name \n",
    "df=df.drop(columns='Latitude',axis=1)\n",
    "df=df.drop(columns='Longitude',axis=1)\n",
    "df=df.drop(columns='Benefit per order',axis=1)\n",
    "df=df.drop(columns='Order Customer Id',axis=1)\n",
    "df=df.drop(columns='Order Item Cardprod Id',axis=1)\n",
    "df=df.drop(columns='Product Category Id',axis=1)\n",
    "df=df.drop(columns='Order Item Id',axis=1)\n",
    "df=df.drop(columns='Sales per customer',axis=1)"
   ]
  },
  {
   "cell_type": "markdown",
   "id": "b78446e0",
   "metadata": {},
   "source": [
    "### Checking the remaining columns "
   ]
  },
  {
   "cell_type": "code",
   "execution_count": 17,
   "id": "4a419546",
   "metadata": {
    "scrolled": true
   },
   "outputs": [
    {
     "data": {
      "text/plain": [
       "Index(['Type', 'Delivery Status', 'Late_delivery_risk', 'Category Id',\n",
       "       'Category Name', 'Customer City', 'Customer Country', 'Customer Id',\n",
       "       'Customer Segment', 'Customer State', 'Customer Zipcode',\n",
       "       'Department Id', 'Department Name', 'Market', 'Order City',\n",
       "       'Order Country', 'order date (DateOrders)', 'Order Id',\n",
       "       'Order Item Discount', 'Order Item Discount Rate',\n",
       "       'Order Item Profit Ratio', 'Order Item Quantity', 'Sales',\n",
       "       'Order Item Total', 'Order Profit Per Order', 'Order Region',\n",
       "       'Order State', 'Order Status', 'Product Card Id', 'Product Name',\n",
       "       'Product Price', 'shipping date (DateOrders)', 'Shipping Mode'],\n",
       "      dtype='object')"
      ]
     },
     "execution_count": 17,
     "metadata": {},
     "output_type": "execute_result"
    }
   ],
   "source": [
    "df.columns"
   ]
  },
  {
   "cell_type": "code",
   "execution_count": 18,
   "id": "359953f0",
   "metadata": {},
   "outputs": [
    {
     "data": {
      "text/plain": [
       "(180519, 33)"
      ]
     },
     "execution_count": 18,
     "metadata": {},
     "output_type": "execute_result"
    }
   ],
   "source": [
    "df.shape"
   ]
  },
  {
   "cell_type": "code",
   "execution_count": 19,
   "id": "017617e7",
   "metadata": {},
   "outputs": [
    {
     "name": "stdout",
     "output_type": "stream",
     "text": [
      "<class 'pandas.core.frame.DataFrame'>\n",
      "RangeIndex: 180519 entries, 0 to 180518\n",
      "Data columns (total 33 columns):\n",
      " #   Column                      Non-Null Count   Dtype         \n",
      "---  ------                      --------------   -----         \n",
      " 0   Type                        180519 non-null  object        \n",
      " 1   Delivery Status             180519 non-null  object        \n",
      " 2   Late_delivery_risk          180519 non-null  int64         \n",
      " 3   Category Id                 180519 non-null  int64         \n",
      " 4   Category Name               180519 non-null  object        \n",
      " 5   Customer City               180519 non-null  object        \n",
      " 6   Customer Country            180519 non-null  object        \n",
      " 7   Customer Id                 180519 non-null  int64         \n",
      " 8   Customer Segment            180519 non-null  object        \n",
      " 9   Customer State              180519 non-null  object        \n",
      " 10  Customer Zipcode            180516 non-null  float64       \n",
      " 11  Department Id               180519 non-null  int64         \n",
      " 12  Department Name             180519 non-null  object        \n",
      " 13  Market                      180519 non-null  object        \n",
      " 14  Order City                  180519 non-null  object        \n",
      " 15  Order Country               180519 non-null  object        \n",
      " 16  order date (DateOrders)     180519 non-null  datetime64[ns]\n",
      " 17  Order Id                    180519 non-null  int64         \n",
      " 18  Order Item Discount         180519 non-null  float64       \n",
      " 19  Order Item Discount Rate    180519 non-null  float64       \n",
      " 20  Order Item Profit Ratio     180519 non-null  float64       \n",
      " 21  Order Item Quantity         180519 non-null  int64         \n",
      " 22  Sales                       180519 non-null  float64       \n",
      " 23  Order Item Total            180519 non-null  float64       \n",
      " 24  Order Profit Per Order      180519 non-null  float64       \n",
      " 25  Order Region                180519 non-null  object        \n",
      " 26  Order State                 180519 non-null  object        \n",
      " 27  Order Status                180519 non-null  object        \n",
      " 28  Product Card Id             180519 non-null  int64         \n",
      " 29  Product Name                180519 non-null  object        \n",
      " 30  Product Price               180519 non-null  float64       \n",
      " 31  shipping date (DateOrders)  180519 non-null  datetime64[ns]\n",
      " 32  Shipping Mode               180519 non-null  object        \n",
      "dtypes: datetime64[ns](2), float64(8), int64(7), object(16)\n",
      "memory usage: 45.4+ MB\n"
     ]
    }
   ],
   "source": [
    "df.info()"
   ]
  },
  {
   "cell_type": "markdown",
   "id": "3b3c8b2a",
   "metadata": {},
   "source": [
    "### Checking value counts and unique values per column "
   ]
  },
  {
   "cell_type": "code",
   "execution_count": 20,
   "id": "be64cf83",
   "metadata": {},
   "outputs": [
    {
     "data": {
      "text/plain": [
       "Type\n",
       "DEBIT       69295\n",
       "TRANSFER    49883\n",
       "PAYMENT     41725\n",
       "CASH        19616\n",
       "Name: count, dtype: int64"
      ]
     },
     "execution_count": 20,
     "metadata": {},
     "output_type": "execute_result"
    }
   ],
   "source": [
    "df['Type'].value_counts()"
   ]
  },
  {
   "cell_type": "code",
   "execution_count": 21,
   "id": "44150223",
   "metadata": {},
   "outputs": [
    {
     "data": {
      "text/plain": [
       "Delivery Status\n",
       "Late delivery        98977\n",
       "Advance shipping     41592\n",
       "Shipping on time     32196\n",
       "Shipping canceled     7754\n",
       "Name: count, dtype: int64"
      ]
     },
     "execution_count": 21,
     "metadata": {},
     "output_type": "execute_result"
    }
   ],
   "source": [
    "df['Delivery Status'].value_counts()"
   ]
  },
  {
   "cell_type": "code",
   "execution_count": 22,
   "id": "fdecd948",
   "metadata": {},
   "outputs": [
    {
     "data": {
      "text/plain": [
       "Late_delivery_risk\n",
       "1    98977\n",
       "0    81542\n",
       "Name: count, dtype: int64"
      ]
     },
     "execution_count": 22,
     "metadata": {},
     "output_type": "execute_result"
    }
   ],
   "source": [
    "df['Late_delivery_risk'].value_counts()"
   ]
  },
  {
   "cell_type": "code",
   "execution_count": 23,
   "id": "f0a37569",
   "metadata": {},
   "outputs": [
    {
     "data": {
      "text/plain": [
       "51"
      ]
     },
     "execution_count": 23,
     "metadata": {},
     "output_type": "execute_result"
    }
   ],
   "source": [
    "df['Category Id'].nunique()"
   ]
  },
  {
   "cell_type": "code",
   "execution_count": 24,
   "id": "b820d1af",
   "metadata": {},
   "outputs": [
    {
     "data": {
      "text/plain": [
       "Category Name\n",
       "Cleats                  24551\n",
       "Men's Footwear          22246\n",
       "Women's Apparel         21035\n",
       "Indoor/Outdoor Games    19298\n",
       "Fishing                 17325\n",
       "Water Sports            15540\n",
       "Camping & Hiking        13729\n",
       "Cardio Equipment        12487\n",
       "Shop By Sport           10984\n",
       "Electronics              3156\n",
       "Accessories              1780\n",
       "Golf Balls               1475\n",
       "Girls' Apparel           1201\n",
       "Golf Gloves              1070\n",
       "Trade-In                  974\n",
       "Video Games               838\n",
       "Children's Clothing       652\n",
       "Women's Clothing          650\n",
       "Baseball & Softball       632\n",
       "Hockey                    614\n",
       "Cameras                   592\n",
       "Toys                      529\n",
       "Golf Shoes                524\n",
       "Pet Supplies              492\n",
       "Crafts                    484\n",
       "Garden                    484\n",
       "DVDs                      483\n",
       "Computers                 442\n",
       "Golf Apparel              441\n",
       "Hunting & Shooting        440\n",
       "Music                     434\n",
       "Consumer Electronics      431\n",
       "Boxing & MMA              423\n",
       "Books                     405\n",
       "Kids' Golf Clubs          384\n",
       "Health and Beauty         362\n",
       "Sporting Goods            357\n",
       "Lacrosse                  343\n",
       "Tennis & Racquet          328\n",
       "Fitness Accessories       309\n",
       "Men's Golf Clubs          283\n",
       "CDs                       271\n",
       "Men's Clothing            208\n",
       "Baby                      207\n",
       "Women's Golf Clubs        181\n",
       "Soccer                    138\n",
       "Strength Training         111\n",
       "As Seen on  TV!            68\n",
       "Basketball                 67\n",
       "Golf Bags & Carts          61\n",
       "Name: count, dtype: int64"
      ]
     },
     "execution_count": 24,
     "metadata": {},
     "output_type": "execute_result"
    }
   ],
   "source": [
    "df['Category Name'].value_counts()"
   ]
  },
  {
   "cell_type": "code",
   "execution_count": 25,
   "id": "1c01df35",
   "metadata": {},
   "outputs": [
    {
     "data": {
      "text/plain": [
       "50"
      ]
     },
     "execution_count": 25,
     "metadata": {},
     "output_type": "execute_result"
    }
   ],
   "source": [
    "df['Category Name'].nunique()"
   ]
  },
  {
   "cell_type": "code",
   "execution_count": 26,
   "id": "16e9ec19",
   "metadata": {},
   "outputs": [
    {
     "data": {
      "text/plain": [
       "Customer City\n",
       "Caguas         66770\n",
       "Chicago         3885\n",
       "Los Angeles     3417\n",
       "Brooklyn        3412\n",
       "New York        1816\n",
       "               ...  \n",
       "Bartlett          25\n",
       "Ponce             22\n",
       "Malden            22\n",
       "Freehold          13\n",
       "CA                 3\n",
       "Name: count, Length: 563, dtype: int64"
      ]
     },
     "execution_count": 26,
     "metadata": {},
     "output_type": "execute_result"
    }
   ],
   "source": [
    "df['Customer City'].value_counts()"
   ]
  },
  {
   "cell_type": "code",
   "execution_count": 27,
   "id": "dad7efa0",
   "metadata": {},
   "outputs": [
    {
     "data": {
      "text/plain": [
       "563"
      ]
     },
     "execution_count": 27,
     "metadata": {},
     "output_type": "execute_result"
    }
   ],
   "source": [
    "df['Customer City'].nunique()"
   ]
  },
  {
   "cell_type": "code",
   "execution_count": 28,
   "id": "67c8ac29",
   "metadata": {},
   "outputs": [
    {
     "data": {
      "text/plain": [
       "Customer Country\n",
       "EE. UU.        111146\n",
       "Puerto Rico     69373\n",
       "Name: count, dtype: int64"
      ]
     },
     "execution_count": 28,
     "metadata": {},
     "output_type": "execute_result"
    }
   ],
   "source": [
    "df['Customer Country'].value_counts()"
   ]
  },
  {
   "cell_type": "code",
   "execution_count": 29,
   "id": "efb080cd",
   "metadata": {
    "scrolled": true
   },
   "outputs": [
    {
     "data": {
      "text/plain": [
       "Customer Id\n",
       "5654     47\n",
       "10591    45\n",
       "5004     45\n",
       "5715     44\n",
       "9371     44\n",
       "         ..\n",
       "14615     1\n",
       "13660     1\n",
       "12786     1\n",
       "13956     1\n",
       "20755     1\n",
       "Name: count, Length: 20652, dtype: int64"
      ]
     },
     "execution_count": 29,
     "metadata": {},
     "output_type": "execute_result"
    }
   ],
   "source": [
    "df['Customer Id'].value_counts()"
   ]
  },
  {
   "cell_type": "code",
   "execution_count": 30,
   "id": "3774da8f",
   "metadata": {},
   "outputs": [
    {
     "data": {
      "text/plain": [
       "20652"
      ]
     },
     "execution_count": 30,
     "metadata": {},
     "output_type": "execute_result"
    }
   ],
   "source": [
    "df['Customer Id'].nunique()"
   ]
  },
  {
   "cell_type": "code",
   "execution_count": 31,
   "id": "645f6a5d",
   "metadata": {},
   "outputs": [
    {
     "data": {
      "text/plain": [
       "Customer Segment\n",
       "Consumer       93504\n",
       "Corporate      54789\n",
       "Home Office    32226\n",
       "Name: count, dtype: int64"
      ]
     },
     "execution_count": 31,
     "metadata": {},
     "output_type": "execute_result"
    }
   ],
   "source": [
    "df['Customer Segment'].value_counts()"
   ]
  },
  {
   "cell_type": "code",
   "execution_count": 32,
   "id": "b43b061a",
   "metadata": {},
   "outputs": [
    {
     "data": {
      "text/plain": [
       "Customer State\n",
       "PR       69373\n",
       "CA       29223\n",
       "NY       11327\n",
       "TX        9103\n",
       "IL        7631\n",
       "FL        5456\n",
       "OH        4095\n",
       "PA        3824\n",
       "MI        3804\n",
       "NJ        3191\n",
       "AZ        3026\n",
       "GA        2503\n",
       "MD        2415\n",
       "NC        1992\n",
       "CO        1914\n",
       "VA        1849\n",
       "OR        1668\n",
       "MA        1607\n",
       "TN        1582\n",
       "NV        1440\n",
       "MO        1354\n",
       "HI        1248\n",
       "CT        1094\n",
       "UT         968\n",
       "NM         949\n",
       "LA         948\n",
       "WA         920\n",
       "WI         850\n",
       "MN         672\n",
       "SC         665\n",
       "IN         581\n",
       "DC         579\n",
       "KY         487\n",
       "KS         458\n",
       "DE         269\n",
       "RI         243\n",
       "WV         241\n",
       "OK         232\n",
       "ND         215\n",
       "ID         167\n",
       "AR         164\n",
       "MT          87\n",
       "IA          67\n",
       "AL          35\n",
       "95758        2\n",
       "91732        1\n",
       "Name: count, dtype: int64"
      ]
     },
     "execution_count": 32,
     "metadata": {},
     "output_type": "execute_result"
    }
   ],
   "source": [
    "df['Customer State'].value_counts()"
   ]
  },
  {
   "cell_type": "code",
   "execution_count": 33,
   "id": "2ddea950",
   "metadata": {},
   "outputs": [
    {
     "data": {
      "text/plain": [
       "Department Id\n",
       "7     66861\n",
       "4     48998\n",
       "5     33220\n",
       "3     14525\n",
       "6      9686\n",
       "2      2479\n",
       "9      2026\n",
       "10     1465\n",
       "11      492\n",
       "8       405\n",
       "12      362\n",
       "Name: count, dtype: int64"
      ]
     },
     "execution_count": 33,
     "metadata": {},
     "output_type": "execute_result"
    }
   ],
   "source": [
    "df['Department Id'].value_counts()"
   ]
  },
  {
   "cell_type": "code",
   "execution_count": 34,
   "id": "b529cc1a",
   "metadata": {},
   "outputs": [
    {
     "data": {
      "text/plain": [
       "Department Name\n",
       "Fan Shop              66861\n",
       "Apparel               48998\n",
       "Golf                  33220\n",
       "Footwear              14525\n",
       "Outdoors               9686\n",
       "Fitness                2479\n",
       "Discs Shop             2026\n",
       "Technology             1465\n",
       "Pet Shop                492\n",
       "Book Shop               405\n",
       "Health and Beauty       362\n",
       "Name: count, dtype: int64"
      ]
     },
     "execution_count": 34,
     "metadata": {},
     "output_type": "execute_result"
    }
   ],
   "source": [
    "df['Department Name'].value_counts()"
   ]
  },
  {
   "cell_type": "code",
   "execution_count": 35,
   "id": "d33617c2",
   "metadata": {},
   "outputs": [
    {
     "data": {
      "text/plain": [
       "Market\n",
       "LATAM           51594\n",
       "Europe          50252\n",
       "Pacific Asia    41260\n",
       "USCA            25799\n",
       "Africa          11614\n",
       "Name: count, dtype: int64"
      ]
     },
     "execution_count": 35,
     "metadata": {},
     "output_type": "execute_result"
    }
   ],
   "source": [
    "df['Market'].value_counts()"
   ]
  },
  {
   "cell_type": "code",
   "execution_count": 36,
   "id": "3b24c125",
   "metadata": {},
   "outputs": [
    {
     "data": {
      "text/plain": [
       "Order City\n",
       "Santo Domingo    2211\n",
       "New York City    2202\n",
       "Los Angeles      1845\n",
       "Tegucigalpa      1783\n",
       "Managua          1682\n",
       "                 ... \n",
       "Detmold             1\n",
       "Korhogo             1\n",
       "Samalut             1\n",
       "Libourne            1\n",
       "Wendeng             1\n",
       "Name: count, Length: 3597, dtype: int64"
      ]
     },
     "execution_count": 36,
     "metadata": {},
     "output_type": "execute_result"
    }
   ],
   "source": [
    "df['Order City'].value_counts()"
   ]
  },
  {
   "cell_type": "code",
   "execution_count": 37,
   "id": "f3a8f75f",
   "metadata": {},
   "outputs": [
    {
     "data": {
      "text/plain": [
       "3597"
      ]
     },
     "execution_count": 37,
     "metadata": {},
     "output_type": "execute_result"
    }
   ],
   "source": [
    "df['Order City'].nunique()"
   ]
  },
  {
   "cell_type": "code",
   "execution_count": 38,
   "id": "91365ccd",
   "metadata": {},
   "outputs": [
    {
     "data": {
      "text/plain": [
       "Order Country\n",
       "Estados Unidos       24840\n",
       "Francia              13222\n",
       "México               13172\n",
       "Alemania              9564\n",
       "Australia             8497\n",
       "                     ...  \n",
       "Kuwait                   2\n",
       "Sáhara Occidental        2\n",
       "Guinea Ecuatorial        2\n",
       "Burundi                  1\n",
       "Serbia                   1\n",
       "Name: count, Length: 164, dtype: int64"
      ]
     },
     "execution_count": 38,
     "metadata": {},
     "output_type": "execute_result"
    }
   ],
   "source": [
    "df['Order Country'].value_counts()"
   ]
  },
  {
   "cell_type": "code",
   "execution_count": 39,
   "id": "4b7f4993",
   "metadata": {},
   "outputs": [
    {
     "data": {
      "text/plain": [
       "164"
      ]
     },
     "execution_count": 39,
     "metadata": {},
     "output_type": "execute_result"
    }
   ],
   "source": [
    "df['Order Country'].nunique()"
   ]
  },
  {
   "cell_type": "code",
   "execution_count": 40,
   "id": "c70a9a51",
   "metadata": {},
   "outputs": [
    {
     "data": {
      "text/plain": [
       "65752"
      ]
     },
     "execution_count": 40,
     "metadata": {},
     "output_type": "execute_result"
    }
   ],
   "source": [
    "df['order date (DateOrders)'].nunique()"
   ]
  },
  {
   "cell_type": "code",
   "execution_count": 41,
   "id": "fd523d64",
   "metadata": {},
   "outputs": [
    {
     "data": {
      "text/plain": [
       "Order Id\n",
       "50290    5\n",
       "6222     5\n",
       "47432    5\n",
       "36535    5\n",
       "37992    5\n",
       "        ..\n",
       "77202    1\n",
       "28117    1\n",
       "28139    1\n",
       "28144    1\n",
       "28232    1\n",
       "Name: count, Length: 65752, dtype: int64"
      ]
     },
     "execution_count": 41,
     "metadata": {},
     "output_type": "execute_result"
    }
   ],
   "source": [
    "df['Order Id'].value_counts()"
   ]
  },
  {
   "cell_type": "code",
   "execution_count": 42,
   "id": "81acbd03",
   "metadata": {},
   "outputs": [
    {
     "data": {
      "text/plain": [
       "65752"
      ]
     },
     "execution_count": 42,
     "metadata": {},
     "output_type": "execute_result"
    }
   ],
   "source": [
    "df['Order Id'].nunique()"
   ]
  },
  {
   "cell_type": "code",
   "execution_count": 43,
   "id": "768524c7",
   "metadata": {},
   "outputs": [
    {
     "data": {
      "text/plain": [
       "Order Item Discount\n",
       "0.000000      10028\n",
       "6.000000       4589\n",
       "12.000000      4067\n",
       "4.000000       3647\n",
       "8.000000       3626\n",
       "              ...  \n",
       "50.490002         1\n",
       "85.489998         1\n",
       "140.000000        1\n",
       "33.660000         1\n",
       "61.189999         1\n",
       "Name: count, Length: 1017, dtype: int64"
      ]
     },
     "execution_count": 43,
     "metadata": {},
     "output_type": "execute_result"
    }
   ],
   "source": [
    "df['Order Item Discount'].value_counts()"
   ]
  },
  {
   "cell_type": "code",
   "execution_count": 44,
   "id": "6c8cc793",
   "metadata": {},
   "outputs": [
    {
     "data": {
      "text/plain": [
       "1017"
      ]
     },
     "execution_count": 44,
     "metadata": {},
     "output_type": "execute_result"
    }
   ],
   "source": [
    "df['Order Item Discount'].nunique()"
   ]
  },
  {
   "cell_type": "code",
   "execution_count": 45,
   "id": "6864c543",
   "metadata": {},
   "outputs": [
    {
     "data": {
      "text/plain": [
       "Order Item Discount Rate\n",
       "0.04    10029\n",
       "0.05    10029\n",
       "0.06    10029\n",
       "0.07    10029\n",
       "0.09    10029\n",
       "0.10    10029\n",
       "0.12    10029\n",
       "0.13    10029\n",
       "0.15    10029\n",
       "0.16    10029\n",
       "0.17    10029\n",
       "0.18    10029\n",
       "0.20    10029\n",
       "0.25    10029\n",
       "0.03    10029\n",
       "0.00    10028\n",
       "0.01    10028\n",
       "0.02    10028\n",
       "Name: count, dtype: int64"
      ]
     },
     "execution_count": 45,
     "metadata": {},
     "output_type": "execute_result"
    }
   ],
   "source": [
    "df['Order Item Discount Rate'].value_counts()"
   ]
  },
  {
   "cell_type": "code",
   "execution_count": 46,
   "id": "69b14335",
   "metadata": {},
   "outputs": [
    {
     "data": {
      "text/plain": [
       "Order Item Profit Ratio\n",
       " 0.48    9197\n",
       " 0.35    7997\n",
       " 0.26    6577\n",
       " 0.34    6507\n",
       " 0.47    6378\n",
       "         ... \n",
       "-1.37      18\n",
       "-0.93      18\n",
       "-0.90      18\n",
       "-2.30      18\n",
       "-2.10      18\n",
       "Name: count, Length: 162, dtype: int64"
      ]
     },
     "execution_count": 46,
     "metadata": {},
     "output_type": "execute_result"
    }
   ],
   "source": [
    "df['Order Item Profit Ratio'].value_counts()"
   ]
  },
  {
   "cell_type": "code",
   "execution_count": 47,
   "id": "52ed549a",
   "metadata": {},
   "outputs": [
    {
     "data": {
      "text/plain": [
       "162"
      ]
     },
     "execution_count": 47,
     "metadata": {},
     "output_type": "execute_result"
    }
   ],
   "source": [
    "df['Order Item Profit Ratio'].nunique()"
   ]
  },
  {
   "cell_type": "code",
   "execution_count": 48,
   "id": "6db211cf",
   "metadata": {},
   "outputs": [
    {
     "data": {
      "text/plain": [
       "Order Item Quantity\n",
       "1    99134\n",
       "5    20385\n",
       "3    20350\n",
       "4    20335\n",
       "2    20315\n",
       "Name: count, dtype: int64"
      ]
     },
     "execution_count": 48,
     "metadata": {},
     "output_type": "execute_result"
    }
   ],
   "source": [
    "df['Order Item Quantity'].value_counts()"
   ]
  },
  {
   "cell_type": "code",
   "execution_count": 49,
   "id": "d906aa23",
   "metadata": {},
   "outputs": [
    {
     "data": {
      "text/plain": [
       "Sales\n",
       "129.990005    22372\n",
       "399.980011    17325\n",
       "199.990005    15622\n",
       "299.980011    13729\n",
       "179.970001     5016\n",
       "              ...  \n",
       "999.989990       10\n",
       "379.959992       10\n",
       "99.000000         9\n",
       "198.000000        9\n",
       "396.000000        9\n",
       "Name: count, Length: 193, dtype: int64"
      ]
     },
     "execution_count": 49,
     "metadata": {},
     "output_type": "execute_result"
    }
   ],
   "source": [
    "df['Sales'].value_counts()"
   ]
  },
  {
   "cell_type": "code",
   "execution_count": 50,
   "id": "718052b2",
   "metadata": {},
   "outputs": [
    {
     "data": {
      "text/plain": [
       "193"
      ]
     },
     "execution_count": 50,
     "metadata": {},
     "output_type": "execute_result"
    }
   ],
   "source": [
    "df['Sales'].nunique()"
   ]
  },
  {
   "cell_type": "code",
   "execution_count": 51,
   "id": "1e978735",
   "metadata": {},
   "outputs": [
    {
     "data": {
      "text/plain": [
       "Order Item Total\n",
       "122.839996    1264\n",
       "109.190002    1247\n",
       "116.989998    1243\n",
       "120.889999    1243\n",
       "123.489998    1243\n",
       "              ... \n",
       "250.770004       1\n",
       "163.779999       1\n",
       "224.889999       1\n",
       "380.160004       1\n",
       "197.899994       1\n",
       "Name: count, Length: 2927, dtype: int64"
      ]
     },
     "execution_count": 51,
     "metadata": {},
     "output_type": "execute_result"
    }
   ],
   "source": [
    "df['Order Item Total'].value_counts()"
   ]
  },
  {
   "cell_type": "code",
   "execution_count": 52,
   "id": "93c17548",
   "metadata": {},
   "outputs": [
    {
     "data": {
      "text/plain": [
       "2927"
      ]
     },
     "execution_count": 52,
     "metadata": {},
     "output_type": "execute_result"
    }
   ],
   "source": [
    "df['Order Item Total'].nunique()"
   ]
  },
  {
   "cell_type": "code",
   "execution_count": 53,
   "id": "ccffe47d",
   "metadata": {},
   "outputs": [
    {
     "data": {
      "text/plain": [
       "Order Profit Per Order\n",
       " 0.000000      1177\n",
       " 143.990005     199\n",
       " 72.000000      194\n",
       " 46.799999      188\n",
       " 24.000000      181\n",
       "               ... \n",
       "-212.410004       1\n",
       "-18.959999        1\n",
       " 177.169998       1\n",
       " 130.979996       1\n",
       "-196.179993       1\n",
       "Name: count, Length: 21998, dtype: int64"
      ]
     },
     "execution_count": 53,
     "metadata": {},
     "output_type": "execute_result"
    }
   ],
   "source": [
    "df['Order Profit Per Order'].value_counts()"
   ]
  },
  {
   "cell_type": "code",
   "execution_count": 54,
   "id": "a1785bd8",
   "metadata": {},
   "outputs": [
    {
     "data": {
      "text/plain": [
       "Order Region\n",
       "Central America    28341\n",
       "Western Europe     27109\n",
       "South America      14935\n",
       "Oceania            10148\n",
       "Northern Europe     9792\n",
       "Southeast Asia      9539\n",
       "Southern Europe     9431\n",
       "Caribbean           8318\n",
       "West of USA         7993\n",
       "South Asia          7731\n",
       "Eastern Asia        7280\n",
       "East of USA         6915\n",
       "West Asia           6009\n",
       "US Center           5887\n",
       "South of  USA       4045\n",
       "Eastern Europe      3920\n",
       "West Africa         3696\n",
       "North Africa        3232\n",
       "East Africa         1852\n",
       "Central Africa      1677\n",
       "Southern Africa     1157\n",
       "Canada               959\n",
       "Central Asia         553\n",
       "Name: count, dtype: int64"
      ]
     },
     "execution_count": 54,
     "metadata": {},
     "output_type": "execute_result"
    }
   ],
   "source": [
    "df['Order Region'].value_counts()"
   ]
  },
  {
   "cell_type": "code",
   "execution_count": 55,
   "id": "1ad4288f",
   "metadata": {},
   "outputs": [
    {
     "data": {
      "text/plain": [
       "Order State\n",
       "Inglaterra                     6722\n",
       "California                     4966\n",
       "Isla de Francia                4580\n",
       "Renania del Norte-Westfalia    3303\n",
       "San Salvador                   3055\n",
       "                               ... \n",
       "Vrancea                           1\n",
       "Suceava                           1\n",
       "Mie                               1\n",
       "Iringa                            1\n",
       "Serbia Central                    1\n",
       "Name: count, Length: 1089, dtype: int64"
      ]
     },
     "execution_count": 55,
     "metadata": {},
     "output_type": "execute_result"
    }
   ],
   "source": [
    "df['Order State'].value_counts()"
   ]
  },
  {
   "cell_type": "code",
   "execution_count": 56,
   "id": "96c07042",
   "metadata": {},
   "outputs": [
    {
     "data": {
      "text/plain": [
       "Order Status\n",
       "COMPLETE           59491\n",
       "PENDING_PAYMENT    39832\n",
       "PROCESSING         21902\n",
       "PENDING            20227\n",
       "CLOSED             19616\n",
       "ON_HOLD             9804\n",
       "SUSPECTED_FRAUD     4062\n",
       "CANCELED            3692\n",
       "PAYMENT_REVIEW      1893\n",
       "Name: count, dtype: int64"
      ]
     },
     "execution_count": 56,
     "metadata": {},
     "output_type": "execute_result"
    }
   ],
   "source": [
    "df['Order Status'].value_counts()"
   ]
  },
  {
   "cell_type": "code",
   "execution_count": 57,
   "id": "3e81b800",
   "metadata": {},
   "outputs": [
    {
     "data": {
      "text/plain": [
       "Product Card Id\n",
       "365     24515\n",
       "403     22246\n",
       "502     21035\n",
       "1014    19298\n",
       "1004    17325\n",
       "        ...  \n",
       "127        27\n",
       "208        15\n",
       "860        11\n",
       "60         10\n",
       "226        10\n",
       "Name: count, Length: 118, dtype: int64"
      ]
     },
     "execution_count": 57,
     "metadata": {},
     "output_type": "execute_result"
    }
   ],
   "source": [
    "df['Product Card Id'].value_counts()"
   ]
  },
  {
   "cell_type": "code",
   "execution_count": 58,
   "id": "9425b298",
   "metadata": {},
   "outputs": [
    {
     "data": {
      "text/plain": [
       "118"
      ]
     },
     "execution_count": 58,
     "metadata": {},
     "output_type": "execute_result"
    }
   ],
   "source": [
    "df['Product Card Id'].nunique()"
   ]
  },
  {
   "cell_type": "code",
   "execution_count": 59,
   "id": "c96853d1",
   "metadata": {},
   "outputs": [
    {
     "data": {
      "text/plain": [
       "Product Name\n",
       "Perfect Fitness Perfect Rip Deck                 24515\n",
       "Nike Men's CJ Elite 2 TD Football Cleat          22246\n",
       "Nike Men's Dri-FIT Victory Golf Polo             21035\n",
       "O'Brien Men's Neoprene Life Vest                 19298\n",
       "Field & Stream Sportsman 16 Gun Fire Safe        17325\n",
       "                                                 ...  \n",
       "Stiga Master Series ST3100 Competition Indoor       27\n",
       "SOLE E35 Elliptical                                 15\n",
       "Bushnell Pro X7 Jolt Slope Rangefinder              11\n",
       "SOLE E25 Elliptical                                 10\n",
       "Bowflex SelectTech 1090 Dumbbells                   10\n",
       "Name: count, Length: 118, dtype: int64"
      ]
     },
     "execution_count": 59,
     "metadata": {},
     "output_type": "execute_result"
    }
   ],
   "source": [
    "df['Product Name'].value_counts()"
   ]
  },
  {
   "cell_type": "code",
   "execution_count": 60,
   "id": "e3ee7451",
   "metadata": {},
   "outputs": [
    {
     "data": {
      "text/plain": [
       "118"
      ]
     },
     "execution_count": 60,
     "metadata": {},
     "output_type": "execute_result"
    }
   ],
   "source": [
    "df['Product Name'].nunique()"
   ]
  },
  {
   "cell_type": "code",
   "execution_count": 61,
   "id": "6b6938d4",
   "metadata": {},
   "outputs": [
    {
     "data": {
      "text/plain": [
       "Product Price\n",
       "59.990002      24820\n",
       "129.990005     22372\n",
       "50.000000      21035\n",
       "49.980000      19298\n",
       "399.980011     17325\n",
       "               ...  \n",
       "349.989990        40\n",
       "329.989990        27\n",
       "599.989990        21\n",
       "1999.989990       15\n",
       "999.989990        10\n",
       "Name: count, Length: 75, dtype: int64"
      ]
     },
     "execution_count": 61,
     "metadata": {},
     "output_type": "execute_result"
    }
   ],
   "source": [
    "df['Product Price'].value_counts()"
   ]
  },
  {
   "cell_type": "code",
   "execution_count": 62,
   "id": "1a55f158",
   "metadata": {},
   "outputs": [
    {
     "data": {
      "text/plain": [
       "75"
      ]
     },
     "execution_count": 62,
     "metadata": {},
     "output_type": "execute_result"
    }
   ],
   "source": [
    "df['Product Price'].nunique()"
   ]
  },
  {
   "cell_type": "code",
   "execution_count": 63,
   "id": "15c83c3d",
   "metadata": {},
   "outputs": [
    {
     "data": {
      "text/plain": [
       "Shipping Mode\n",
       "Standard Class    107752\n",
       "Second Class       35216\n",
       "First Class        27814\n",
       "Same Day            9737\n",
       "Name: count, dtype: int64"
      ]
     },
     "execution_count": 63,
     "metadata": {},
     "output_type": "execute_result"
    }
   ],
   "source": [
    "df['Shipping Mode'].value_counts()"
   ]
  },
  {
   "cell_type": "markdown",
   "id": "32b02eb6",
   "metadata": {},
   "source": [
    "### Creating a new column to read Profit or Loss "
   ]
  },
  {
   "cell_type": "code",
   "execution_count": 64,
   "id": "22b75967",
   "metadata": {},
   "outputs": [],
   "source": [
    "df.loc[df['Order Item Profit Ratio']>0, 'Profits'] = 'Profit'"
   ]
  },
  {
   "cell_type": "code",
   "execution_count": 65,
   "id": "e5802dcc",
   "metadata": {},
   "outputs": [],
   "source": [
    "df.loc[df['Order Item Profit Ratio']<0, 'Profits'] = 'Loss'"
   ]
  },
  {
   "cell_type": "code",
   "execution_count": 66,
   "id": "e37e5d9e",
   "metadata": {},
   "outputs": [],
   "source": [
    "df.loc[df['Order Item Profit Ratio']==0, 'Profits'] = 'None'"
   ]
  },
  {
   "cell_type": "code",
   "execution_count": 67,
   "id": "260d1042",
   "metadata": {},
   "outputs": [
    {
     "data": {
      "text/plain": [
       "Profits\n",
       "Profit    145558\n",
       "Loss       33784\n",
       "None        1177\n",
       "Name: count, dtype: int64"
      ]
     },
     "execution_count": 67,
     "metadata": {},
     "output_type": "execute_result"
    }
   ],
   "source": [
    "df['Profits'].value_counts()"
   ]
  },
  {
   "cell_type": "code",
   "execution_count": 68,
   "id": "4cc7d719",
   "metadata": {},
   "outputs": [],
   "source": [
    "#droping profit ratio \n",
    "df=df.drop(columns='Order Item Profit Ratio',axis=1)"
   ]
  },
  {
   "cell_type": "code",
   "execution_count": 69,
   "id": "cef1a6dc",
   "metadata": {},
   "outputs": [],
   "source": [
    "#droping Customer Zipcode \n",
    "df=df.drop(columns='Customer Zipcode',axis=1)"
   ]
  },
  {
   "cell_type": "code",
   "execution_count": 70,
   "id": "136cce5b",
   "metadata": {},
   "outputs": [
    {
     "data": {
      "text/plain": [
       "Type                          0\n",
       "Delivery Status               0\n",
       "Late_delivery_risk            0\n",
       "Category Id                   0\n",
       "Category Name                 0\n",
       "Customer City                 0\n",
       "Customer Country              0\n",
       "Customer Id                   0\n",
       "Customer Segment              0\n",
       "Customer State                0\n",
       "Department Id                 0\n",
       "Department Name               0\n",
       "Market                        0\n",
       "Order City                    0\n",
       "Order Country                 0\n",
       "order date (DateOrders)       0\n",
       "Order Id                      0\n",
       "Order Item Discount           0\n",
       "Order Item Discount Rate      0\n",
       "Order Item Quantity           0\n",
       "Sales                         0\n",
       "Order Item Total              0\n",
       "Order Profit Per Order        0\n",
       "Order Region                  0\n",
       "Order State                   0\n",
       "Order Status                  0\n",
       "Product Card Id               0\n",
       "Product Name                  0\n",
       "Product Price                 0\n",
       "shipping date (DateOrders)    0\n",
       "Shipping Mode                 0\n",
       "Profits                       0\n",
       "dtype: int64"
      ]
     },
     "execution_count": 70,
     "metadata": {},
     "output_type": "execute_result"
    }
   ],
   "source": [
    "#checking nulls \n",
    "df.isnull().sum()"
   ]
  },
  {
   "cell_type": "code",
   "execution_count": 71,
   "id": "f7821530",
   "metadata": {},
   "outputs": [
    {
     "name": "stdout",
     "output_type": "stream",
     "text": [
      "<class 'pandas.core.frame.DataFrame'>\n",
      "RangeIndex: 180519 entries, 0 to 180518\n",
      "Data columns (total 32 columns):\n",
      " #   Column                      Non-Null Count   Dtype         \n",
      "---  ------                      --------------   -----         \n",
      " 0   Type                        180519 non-null  object        \n",
      " 1   Delivery Status             180519 non-null  object        \n",
      " 2   Late_delivery_risk          180519 non-null  int64         \n",
      " 3   Category Id                 180519 non-null  int64         \n",
      " 4   Category Name               180519 non-null  object        \n",
      " 5   Customer City               180519 non-null  object        \n",
      " 6   Customer Country            180519 non-null  object        \n",
      " 7   Customer Id                 180519 non-null  int64         \n",
      " 8   Customer Segment            180519 non-null  object        \n",
      " 9   Customer State              180519 non-null  object        \n",
      " 10  Department Id               180519 non-null  int64         \n",
      " 11  Department Name             180519 non-null  object        \n",
      " 12  Market                      180519 non-null  object        \n",
      " 13  Order City                  180519 non-null  object        \n",
      " 14  Order Country               180519 non-null  object        \n",
      " 15  order date (DateOrders)     180519 non-null  datetime64[ns]\n",
      " 16  Order Id                    180519 non-null  int64         \n",
      " 17  Order Item Discount         180519 non-null  float64       \n",
      " 18  Order Item Discount Rate    180519 non-null  float64       \n",
      " 19  Order Item Quantity         180519 non-null  int64         \n",
      " 20  Sales                       180519 non-null  float64       \n",
      " 21  Order Item Total            180519 non-null  float64       \n",
      " 22  Order Profit Per Order      180519 non-null  float64       \n",
      " 23  Order Region                180519 non-null  object        \n",
      " 24  Order State                 180519 non-null  object        \n",
      " 25  Order Status                180519 non-null  object        \n",
      " 26  Product Card Id             180519 non-null  int64         \n",
      " 27  Product Name                180519 non-null  object        \n",
      " 28  Product Price               180519 non-null  float64       \n",
      " 29  shipping date (DateOrders)  180519 non-null  datetime64[ns]\n",
      " 30  Shipping Mode               180519 non-null  object        \n",
      " 31  Profits                     180519 non-null  object        \n",
      "dtypes: datetime64[ns](2), float64(6), int64(7), object(17)\n",
      "memory usage: 44.1+ MB\n"
     ]
    }
   ],
   "source": [
    "df.info()"
   ]
  },
  {
   "cell_type": "markdown",
   "id": "1e488ca6",
   "metadata": {},
   "source": [
    "### Checking for any zeros in order Item Total "
   ]
  },
  {
   "cell_type": "code",
   "execution_count": 72,
   "id": "a332245d",
   "metadata": {},
   "outputs": [
    {
     "data": {
      "text/html": [
       "<div>\n",
       "<style scoped>\n",
       "    .dataframe tbody tr th:only-of-type {\n",
       "        vertical-align: middle;\n",
       "    }\n",
       "\n",
       "    .dataframe tbody tr th {\n",
       "        vertical-align: top;\n",
       "    }\n",
       "\n",
       "    .dataframe thead th {\n",
       "        text-align: right;\n",
       "    }\n",
       "</style>\n",
       "<table border=\"1\" class=\"dataframe\">\n",
       "  <thead>\n",
       "    <tr style=\"text-align: right;\">\n",
       "      <th></th>\n",
       "      <th>Type</th>\n",
       "      <th>Delivery Status</th>\n",
       "      <th>Late_delivery_risk</th>\n",
       "      <th>Category Id</th>\n",
       "      <th>Category Name</th>\n",
       "      <th>Customer City</th>\n",
       "      <th>Customer Country</th>\n",
       "      <th>Customer Id</th>\n",
       "      <th>Customer Segment</th>\n",
       "      <th>Customer State</th>\n",
       "      <th>...</th>\n",
       "      <th>Order Profit Per Order</th>\n",
       "      <th>Order Region</th>\n",
       "      <th>Order State</th>\n",
       "      <th>Order Status</th>\n",
       "      <th>Product Card Id</th>\n",
       "      <th>Product Name</th>\n",
       "      <th>Product Price</th>\n",
       "      <th>shipping date (DateOrders)</th>\n",
       "      <th>Shipping Mode</th>\n",
       "      <th>Profits</th>\n",
       "    </tr>\n",
       "  </thead>\n",
       "  <tbody>\n",
       "  </tbody>\n",
       "</table>\n",
       "<p>0 rows × 32 columns</p>\n",
       "</div>"
      ],
      "text/plain": [
       "Empty DataFrame\n",
       "Columns: [Type, Delivery Status, Late_delivery_risk, Category Id, Category Name, Customer City, Customer Country, Customer Id, Customer Segment, Customer State, Department Id, Department Name, Market, Order City, Order Country, order date (DateOrders), Order Id, Order Item Discount, Order Item Discount Rate, Order Item Quantity, Sales, Order Item Total, Order Profit Per Order, Order Region, Order State, Order Status, Product Card Id, Product Name, Product Price, shipping date (DateOrders), Shipping Mode, Profits]\n",
       "Index: []\n",
       "\n",
       "[0 rows x 32 columns]"
      ]
     },
     "execution_count": 72,
     "metadata": {},
     "output_type": "execute_result"
    }
   ],
   "source": [
    "xb = df[df['Order Item Total'] <= 0]\n",
    "xb"
   ]
  },
  {
   "cell_type": "markdown",
   "id": "1ca0282b",
   "metadata": {},
   "source": [
    "# Storing the cleaned data to a new csv and reading it"
   ]
  },
  {
   "cell_type": "code",
   "execution_count": 73,
   "id": "78d0d53b",
   "metadata": {},
   "outputs": [],
   "source": [
    "df.to_csv('cleanedDataCo.csv',index=False)"
   ]
  },
  {
   "cell_type": "code",
   "execution_count": 74,
   "id": "d4b8257a",
   "metadata": {},
   "outputs": [],
   "source": [
    "xf=pd.read_csv('cleanedDataCo.csv')"
   ]
  },
  {
   "cell_type": "code",
   "execution_count": 75,
   "id": "f7e934fa",
   "metadata": {},
   "outputs": [
    {
     "data": {
      "text/html": [
       "<div>\n",
       "<style scoped>\n",
       "    .dataframe tbody tr th:only-of-type {\n",
       "        vertical-align: middle;\n",
       "    }\n",
       "\n",
       "    .dataframe tbody tr th {\n",
       "        vertical-align: top;\n",
       "    }\n",
       "\n",
       "    .dataframe thead th {\n",
       "        text-align: right;\n",
       "    }\n",
       "</style>\n",
       "<table border=\"1\" class=\"dataframe\">\n",
       "  <thead>\n",
       "    <tr style=\"text-align: right;\">\n",
       "      <th></th>\n",
       "      <th>Type</th>\n",
       "      <th>Delivery Status</th>\n",
       "      <th>Late_delivery_risk</th>\n",
       "      <th>Category Id</th>\n",
       "      <th>Category Name</th>\n",
       "      <th>Customer City</th>\n",
       "      <th>Customer Country</th>\n",
       "      <th>Customer Id</th>\n",
       "      <th>Customer Segment</th>\n",
       "      <th>Customer State</th>\n",
       "      <th>...</th>\n",
       "      <th>Order Profit Per Order</th>\n",
       "      <th>Order Region</th>\n",
       "      <th>Order State</th>\n",
       "      <th>Order Status</th>\n",
       "      <th>Product Card Id</th>\n",
       "      <th>Product Name</th>\n",
       "      <th>Product Price</th>\n",
       "      <th>shipping date (DateOrders)</th>\n",
       "      <th>Shipping Mode</th>\n",
       "      <th>Profits</th>\n",
       "    </tr>\n",
       "  </thead>\n",
       "  <tbody>\n",
       "    <tr>\n",
       "      <th>0</th>\n",
       "      <td>DEBIT</td>\n",
       "      <td>Advance shipping</td>\n",
       "      <td>0</td>\n",
       "      <td>73</td>\n",
       "      <td>Sporting Goods</td>\n",
       "      <td>Caguas</td>\n",
       "      <td>Puerto Rico</td>\n",
       "      <td>20755</td>\n",
       "      <td>Consumer</td>\n",
       "      <td>PR</td>\n",
       "      <td>...</td>\n",
       "      <td>91.250000</td>\n",
       "      <td>Southeast Asia</td>\n",
       "      <td>Java Occidental</td>\n",
       "      <td>COMPLETE</td>\n",
       "      <td>1360</td>\n",
       "      <td>Smart watch</td>\n",
       "      <td>327.75</td>\n",
       "      <td>2018-02-03 22:56:00</td>\n",
       "      <td>Standard Class</td>\n",
       "      <td>Profit</td>\n",
       "    </tr>\n",
       "    <tr>\n",
       "      <th>1</th>\n",
       "      <td>TRANSFER</td>\n",
       "      <td>Late delivery</td>\n",
       "      <td>1</td>\n",
       "      <td>73</td>\n",
       "      <td>Sporting Goods</td>\n",
       "      <td>Caguas</td>\n",
       "      <td>Puerto Rico</td>\n",
       "      <td>19492</td>\n",
       "      <td>Consumer</td>\n",
       "      <td>PR</td>\n",
       "      <td>...</td>\n",
       "      <td>-249.089996</td>\n",
       "      <td>South Asia</td>\n",
       "      <td>Rajastán</td>\n",
       "      <td>PENDING</td>\n",
       "      <td>1360</td>\n",
       "      <td>Smart watch</td>\n",
       "      <td>327.75</td>\n",
       "      <td>2018-01-18 12:27:00</td>\n",
       "      <td>Standard Class</td>\n",
       "      <td>Loss</td>\n",
       "    </tr>\n",
       "    <tr>\n",
       "      <th>2</th>\n",
       "      <td>CASH</td>\n",
       "      <td>Shipping on time</td>\n",
       "      <td>0</td>\n",
       "      <td>73</td>\n",
       "      <td>Sporting Goods</td>\n",
       "      <td>San Jose</td>\n",
       "      <td>EE. UU.</td>\n",
       "      <td>19491</td>\n",
       "      <td>Consumer</td>\n",
       "      <td>CA</td>\n",
       "      <td>...</td>\n",
       "      <td>-247.779999</td>\n",
       "      <td>South Asia</td>\n",
       "      <td>Rajastán</td>\n",
       "      <td>CLOSED</td>\n",
       "      <td>1360</td>\n",
       "      <td>Smart watch</td>\n",
       "      <td>327.75</td>\n",
       "      <td>2018-01-17 12:06:00</td>\n",
       "      <td>Standard Class</td>\n",
       "      <td>Loss</td>\n",
       "    </tr>\n",
       "    <tr>\n",
       "      <th>3</th>\n",
       "      <td>DEBIT</td>\n",
       "      <td>Advance shipping</td>\n",
       "      <td>0</td>\n",
       "      <td>73</td>\n",
       "      <td>Sporting Goods</td>\n",
       "      <td>Los Angeles</td>\n",
       "      <td>EE. UU.</td>\n",
       "      <td>19490</td>\n",
       "      <td>Home Office</td>\n",
       "      <td>CA</td>\n",
       "      <td>...</td>\n",
       "      <td>22.860001</td>\n",
       "      <td>Oceania</td>\n",
       "      <td>Queensland</td>\n",
       "      <td>COMPLETE</td>\n",
       "      <td>1360</td>\n",
       "      <td>Smart watch</td>\n",
       "      <td>327.75</td>\n",
       "      <td>2018-01-16 11:45:00</td>\n",
       "      <td>Standard Class</td>\n",
       "      <td>Profit</td>\n",
       "    </tr>\n",
       "    <tr>\n",
       "      <th>4</th>\n",
       "      <td>PAYMENT</td>\n",
       "      <td>Advance shipping</td>\n",
       "      <td>0</td>\n",
       "      <td>73</td>\n",
       "      <td>Sporting Goods</td>\n",
       "      <td>Caguas</td>\n",
       "      <td>Puerto Rico</td>\n",
       "      <td>19489</td>\n",
       "      <td>Corporate</td>\n",
       "      <td>PR</td>\n",
       "      <td>...</td>\n",
       "      <td>134.210007</td>\n",
       "      <td>Oceania</td>\n",
       "      <td>Queensland</td>\n",
       "      <td>PENDING_PAYMENT</td>\n",
       "      <td>1360</td>\n",
       "      <td>Smart watch</td>\n",
       "      <td>327.75</td>\n",
       "      <td>2018-01-15 11:24:00</td>\n",
       "      <td>Standard Class</td>\n",
       "      <td>Profit</td>\n",
       "    </tr>\n",
       "    <tr>\n",
       "      <th>5</th>\n",
       "      <td>TRANSFER</td>\n",
       "      <td>Shipping canceled</td>\n",
       "      <td>0</td>\n",
       "      <td>73</td>\n",
       "      <td>Sporting Goods</td>\n",
       "      <td>Tonawanda</td>\n",
       "      <td>EE. UU.</td>\n",
       "      <td>19488</td>\n",
       "      <td>Consumer</td>\n",
       "      <td>NY</td>\n",
       "      <td>...</td>\n",
       "      <td>18.580000</td>\n",
       "      <td>Oceania</td>\n",
       "      <td>Queensland</td>\n",
       "      <td>CANCELED</td>\n",
       "      <td>1360</td>\n",
       "      <td>Smart watch</td>\n",
       "      <td>327.75</td>\n",
       "      <td>2018-01-19 11:03:00</td>\n",
       "      <td>Standard Class</td>\n",
       "      <td>Profit</td>\n",
       "    </tr>\n",
       "    <tr>\n",
       "      <th>6</th>\n",
       "      <td>DEBIT</td>\n",
       "      <td>Late delivery</td>\n",
       "      <td>1</td>\n",
       "      <td>73</td>\n",
       "      <td>Sporting Goods</td>\n",
       "      <td>Caguas</td>\n",
       "      <td>Puerto Rico</td>\n",
       "      <td>19487</td>\n",
       "      <td>Home Office</td>\n",
       "      <td>PR</td>\n",
       "      <td>...</td>\n",
       "      <td>95.180000</td>\n",
       "      <td>Eastern Asia</td>\n",
       "      <td>Guangdong</td>\n",
       "      <td>COMPLETE</td>\n",
       "      <td>1360</td>\n",
       "      <td>Smart watch</td>\n",
       "      <td>327.75</td>\n",
       "      <td>2018-01-15 10:42:00</td>\n",
       "      <td>First Class</td>\n",
       "      <td>Profit</td>\n",
       "    </tr>\n",
       "    <tr>\n",
       "      <th>7</th>\n",
       "      <td>TRANSFER</td>\n",
       "      <td>Late delivery</td>\n",
       "      <td>1</td>\n",
       "      <td>73</td>\n",
       "      <td>Sporting Goods</td>\n",
       "      <td>Miami</td>\n",
       "      <td>EE. UU.</td>\n",
       "      <td>19486</td>\n",
       "      <td>Corporate</td>\n",
       "      <td>FL</td>\n",
       "      <td>...</td>\n",
       "      <td>68.430000</td>\n",
       "      <td>Eastern Asia</td>\n",
       "      <td>Guangdong</td>\n",
       "      <td>PROCESSING</td>\n",
       "      <td>1360</td>\n",
       "      <td>Smart watch</td>\n",
       "      <td>327.75</td>\n",
       "      <td>2018-01-15 10:21:00</td>\n",
       "      <td>First Class</td>\n",
       "      <td>Profit</td>\n",
       "    </tr>\n",
       "    <tr>\n",
       "      <th>8</th>\n",
       "      <td>CASH</td>\n",
       "      <td>Late delivery</td>\n",
       "      <td>1</td>\n",
       "      <td>73</td>\n",
       "      <td>Sporting Goods</td>\n",
       "      <td>Caguas</td>\n",
       "      <td>Puerto Rico</td>\n",
       "      <td>19485</td>\n",
       "      <td>Corporate</td>\n",
       "      <td>PR</td>\n",
       "      <td>...</td>\n",
       "      <td>133.720001</td>\n",
       "      <td>Eastern Asia</td>\n",
       "      <td>Guangdong</td>\n",
       "      <td>CLOSED</td>\n",
       "      <td>1360</td>\n",
       "      <td>Smart watch</td>\n",
       "      <td>327.75</td>\n",
       "      <td>2018-01-16 10:00:00</td>\n",
       "      <td>Second Class</td>\n",
       "      <td>Profit</td>\n",
       "    </tr>\n",
       "    <tr>\n",
       "      <th>9</th>\n",
       "      <td>CASH</td>\n",
       "      <td>Late delivery</td>\n",
       "      <td>1</td>\n",
       "      <td>73</td>\n",
       "      <td>Sporting Goods</td>\n",
       "      <td>San Ramon</td>\n",
       "      <td>EE. UU.</td>\n",
       "      <td>19484</td>\n",
       "      <td>Corporate</td>\n",
       "      <td>CA</td>\n",
       "      <td>...</td>\n",
       "      <td>132.149994</td>\n",
       "      <td>Eastern Asia</td>\n",
       "      <td>Guangdong</td>\n",
       "      <td>CLOSED</td>\n",
       "      <td>1360</td>\n",
       "      <td>Smart watch</td>\n",
       "      <td>327.75</td>\n",
       "      <td>2018-01-15 09:39:00</td>\n",
       "      <td>First Class</td>\n",
       "      <td>Profit</td>\n",
       "    </tr>\n",
       "  </tbody>\n",
       "</table>\n",
       "<p>10 rows × 32 columns</p>\n",
       "</div>"
      ],
      "text/plain": [
       "       Type    Delivery Status  Late_delivery_risk  Category Id  \\\n",
       "0     DEBIT   Advance shipping                   0           73   \n",
       "1  TRANSFER      Late delivery                   1           73   \n",
       "2      CASH   Shipping on time                   0           73   \n",
       "3     DEBIT   Advance shipping                   0           73   \n",
       "4   PAYMENT   Advance shipping                   0           73   \n",
       "5  TRANSFER  Shipping canceled                   0           73   \n",
       "6     DEBIT      Late delivery                   1           73   \n",
       "7  TRANSFER      Late delivery                   1           73   \n",
       "8      CASH      Late delivery                   1           73   \n",
       "9      CASH      Late delivery                   1           73   \n",
       "\n",
       "    Category Name Customer City Customer Country  Customer Id  \\\n",
       "0  Sporting Goods        Caguas      Puerto Rico        20755   \n",
       "1  Sporting Goods        Caguas      Puerto Rico        19492   \n",
       "2  Sporting Goods      San Jose          EE. UU.        19491   \n",
       "3  Sporting Goods   Los Angeles          EE. UU.        19490   \n",
       "4  Sporting Goods        Caguas      Puerto Rico        19489   \n",
       "5  Sporting Goods     Tonawanda          EE. UU.        19488   \n",
       "6  Sporting Goods        Caguas      Puerto Rico        19487   \n",
       "7  Sporting Goods         Miami          EE. UU.        19486   \n",
       "8  Sporting Goods        Caguas      Puerto Rico        19485   \n",
       "9  Sporting Goods     San Ramon          EE. UU.        19484   \n",
       "\n",
       "  Customer Segment Customer State  ...  Order Profit Per Order  \\\n",
       "0         Consumer             PR  ...               91.250000   \n",
       "1         Consumer             PR  ...             -249.089996   \n",
       "2         Consumer             CA  ...             -247.779999   \n",
       "3      Home Office             CA  ...               22.860001   \n",
       "4        Corporate             PR  ...              134.210007   \n",
       "5         Consumer             NY  ...               18.580000   \n",
       "6      Home Office             PR  ...               95.180000   \n",
       "7        Corporate             FL  ...               68.430000   \n",
       "8        Corporate             PR  ...              133.720001   \n",
       "9        Corporate             CA  ...              132.149994   \n",
       "\n",
       "     Order Region      Order State     Order Status Product Card Id  \\\n",
       "0  Southeast Asia  Java Occidental         COMPLETE            1360   \n",
       "1      South Asia         Rajastán          PENDING            1360   \n",
       "2      South Asia         Rajastán           CLOSED            1360   \n",
       "3         Oceania       Queensland         COMPLETE            1360   \n",
       "4         Oceania       Queensland  PENDING_PAYMENT            1360   \n",
       "5         Oceania       Queensland         CANCELED            1360   \n",
       "6    Eastern Asia        Guangdong         COMPLETE            1360   \n",
       "7    Eastern Asia        Guangdong       PROCESSING            1360   \n",
       "8    Eastern Asia        Guangdong           CLOSED            1360   \n",
       "9    Eastern Asia        Guangdong           CLOSED            1360   \n",
       "\n",
       "   Product Name  Product Price  shipping date (DateOrders)   Shipping Mode  \\\n",
       "0  Smart watch          327.75         2018-02-03 22:56:00  Standard Class   \n",
       "1  Smart watch          327.75         2018-01-18 12:27:00  Standard Class   \n",
       "2  Smart watch          327.75         2018-01-17 12:06:00  Standard Class   \n",
       "3  Smart watch          327.75         2018-01-16 11:45:00  Standard Class   \n",
       "4  Smart watch          327.75         2018-01-15 11:24:00  Standard Class   \n",
       "5  Smart watch          327.75         2018-01-19 11:03:00  Standard Class   \n",
       "6  Smart watch          327.75         2018-01-15 10:42:00     First Class   \n",
       "7  Smart watch          327.75         2018-01-15 10:21:00     First Class   \n",
       "8  Smart watch          327.75         2018-01-16 10:00:00    Second Class   \n",
       "9  Smart watch          327.75         2018-01-15 09:39:00     First Class   \n",
       "\n",
       "   Profits  \n",
       "0   Profit  \n",
       "1     Loss  \n",
       "2     Loss  \n",
       "3   Profit  \n",
       "4   Profit  \n",
       "5   Profit  \n",
       "6   Profit  \n",
       "7   Profit  \n",
       "8   Profit  \n",
       "9   Profit  \n",
       "\n",
       "[10 rows x 32 columns]"
      ]
     },
     "execution_count": 75,
     "metadata": {},
     "output_type": "execute_result"
    }
   ],
   "source": [
    "xf.head(10)"
   ]
  }
 ],
 "metadata": {
  "kernelspec": {
   "display_name": "Python 3",
   "language": "python",
   "name": "python3"
  },
  "language_info": {
   "codemirror_mode": {
    "name": "ipython",
    "version": 3
   },
   "file_extension": ".py",
   "mimetype": "text/x-python",
   "name": "python",
   "nbconvert_exporter": "python",
   "pygments_lexer": "ipython3",
   "version": "3.12.7"
  }
 },
 "nbformat": 4,
 "nbformat_minor": 5
}
